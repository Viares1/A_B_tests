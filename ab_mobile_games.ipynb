{
 "cells": [
  {
   "cell_type": "markdown",
   "id": "64aefc82-7b17-44c9-b7f6-0e8e7e05e3b5",
   "metadata": {},
   "source": [
    "# A/B тестирование количества сыгранных игроками раундов в игре Cookie Cats.\n",
    "\"Cookie Cats — чрезвычайно популярная мобильная игра-головоломка, разработанная Tactile Entertainment. Это классическая игра-головоломка в стиле «соедини три», в которой игрок должен соединять плитки одного цвета, чтобы очистить игровое поле и выиграть уровень. Также здесь представлены поющие кошки.\"\n",
    "\n",
    "\"По мере прохождения уровней игры игроки время от времени сталкиваются с воротами, которые заставляют их ждать нетривиальное количество времени или совершать покупки в приложении для продвижения. Помимо стимулирования покупок в приложении, эти ворота служат важной цели: дать игрокам вынужденный перерыв в игре, что, как мы надеемся, приведет к увеличению и продлению удовольствия игрока от игры.\"\n",
    "\n",
    "\"Но где должны быть расположены ворота? Изначально первые ворота были размещены на уровне 30, но в этом блокноте мы собираемся проанализировать AB-тест, в котором мы переместили первые ворота в Cookie Cats с уровня 30 на уровень 40. В частности, мы рассмотрим влияние на удержание игроков. Но прежде чем мы доберемся до этого, ключевым шагом перед проведением любого анализа является понимание данных. Итак, давайте загрузим его и посмотрим!\""
   ]
  },
  {
   "cell_type": "code",
   "execution_count": 143,
   "id": "8dd82329-f177-41df-9947-94b27630a06b",
   "metadata": {},
   "outputs": [],
   "source": [
    "# Ипортируем требующиеся библиотеки.\n",
    "import pandas as pd\n",
    "import matplotlib.pyplot as plt\n",
    "import seaborn as sns\n",
    "from scipy import stats\n",
    "import numpy as np\n",
    "\n",
    "%matplotlib inline"
   ]
  },
  {
   "cell_type": "code",
   "execution_count": 144,
   "id": "7351f962-cbad-4871-803d-96a62f67f392",
   "metadata": {},
   "outputs": [
    {
     "data": {
      "text/html": [
       "<div>\n",
       "<style scoped>\n",
       "    .dataframe tbody tr th:only-of-type {\n",
       "        vertical-align: middle;\n",
       "    }\n",
       "\n",
       "    .dataframe tbody tr th {\n",
       "        vertical-align: top;\n",
       "    }\n",
       "\n",
       "    .dataframe thead th {\n",
       "        text-align: right;\n",
       "    }\n",
       "</style>\n",
       "<table border=\"1\" class=\"dataframe\">\n",
       "  <thead>\n",
       "    <tr style=\"text-align: right;\">\n",
       "      <th></th>\n",
       "      <th>userid</th>\n",
       "      <th>version</th>\n",
       "      <th>sum_gamerounds</th>\n",
       "      <th>retention_1</th>\n",
       "      <th>retention_7</th>\n",
       "    </tr>\n",
       "  </thead>\n",
       "  <tbody>\n",
       "    <tr>\n",
       "      <th>0</th>\n",
       "      <td>116</td>\n",
       "      <td>gate_30</td>\n",
       "      <td>3</td>\n",
       "      <td>False</td>\n",
       "      <td>False</td>\n",
       "    </tr>\n",
       "    <tr>\n",
       "      <th>1</th>\n",
       "      <td>337</td>\n",
       "      <td>gate_30</td>\n",
       "      <td>38</td>\n",
       "      <td>True</td>\n",
       "      <td>False</td>\n",
       "    </tr>\n",
       "    <tr>\n",
       "      <th>2</th>\n",
       "      <td>377</td>\n",
       "      <td>gate_40</td>\n",
       "      <td>165</td>\n",
       "      <td>True</td>\n",
       "      <td>False</td>\n",
       "    </tr>\n",
       "    <tr>\n",
       "      <th>3</th>\n",
       "      <td>483</td>\n",
       "      <td>gate_40</td>\n",
       "      <td>1</td>\n",
       "      <td>False</td>\n",
       "      <td>False</td>\n",
       "    </tr>\n",
       "    <tr>\n",
       "      <th>4</th>\n",
       "      <td>488</td>\n",
       "      <td>gate_40</td>\n",
       "      <td>179</td>\n",
       "      <td>True</td>\n",
       "      <td>True</td>\n",
       "    </tr>\n",
       "  </tbody>\n",
       "</table>\n",
       "</div>"
      ],
      "text/plain": [
       "   userid  version  sum_gamerounds  retention_1  retention_7\n",
       "0     116  gate_30               3        False        False\n",
       "1     337  gate_30              38         True        False\n",
       "2     377  gate_40             165         True        False\n",
       "3     483  gate_40               1        False        False\n",
       "4     488  gate_40             179         True         True"
      ]
     },
     "execution_count": 144,
     "metadata": {},
     "output_type": "execute_result"
    }
   ],
   "source": [
    "# Считываем датасет и выводим первые 5 строк.\n",
    "data=pd.read_csv('C:/Users/ilyal/my_lessons/cookie_cats.csv')\n",
    "data.head()"
   ]
  },
  {
   "cell_type": "code",
   "execution_count": 32,
   "id": "f5973716-137b-4979-ae61-bbc99bb40fb3",
   "metadata": {},
   "outputs": [
    {
     "data": {
      "text/plain": [
       "userid            0\n",
       "version           0\n",
       "sum_gamerounds    0\n",
       "retention_1       0\n",
       "retention_7       0\n",
       "dtype: int64"
      ]
     },
     "execution_count": 32,
     "metadata": {},
     "output_type": "execute_result"
    }
   ],
   "source": [
    "# Смотрим на отсутствие значений в колонках.\n",
    "data.isna().sum()"
   ]
  },
  {
   "cell_type": "code",
   "execution_count": 6,
   "id": "6ffcbf49-58de-4790-bacd-5bbcf9f887c4",
   "metadata": {},
   "outputs": [],
   "source": [
    "# Разделяем датафрейм на контрольную и тестовую группы.\n",
    "control=data[data['version']=='gate_30']\n",
    "test=data[data['version']=='gate_40']"
   ]
  },
  {
   "cell_type": "markdown",
   "id": "9082ade4-0e9b-4c84-97a4-8f29d7c5f180",
   "metadata": {},
   "source": [
    "Посмотрим на распределения количества раундов, сыгранных игроками. В контрольной группе присутствует сильный выброс (возможно, техническая ошибка или так называемый \"абуз\" со стороны игрока). Удалим этот выброс. Далее изобразим распределения на графиках.\n"
   ]
  },
  {
   "cell_type": "code",
   "execution_count": 27,
   "id": "6fb54573-01b7-408e-8f2c-8b5dc5d32e9d",
   "metadata": {},
   "outputs": [
    {
     "data": {
      "text/html": [
       "<div>\n",
       "<style scoped>\n",
       "    .dataframe tbody tr th:only-of-type {\n",
       "        vertical-align: middle;\n",
       "    }\n",
       "\n",
       "    .dataframe tbody tr th {\n",
       "        vertical-align: top;\n",
       "    }\n",
       "\n",
       "    .dataframe thead th {\n",
       "        text-align: right;\n",
       "    }\n",
       "</style>\n",
       "<table border=\"1\" class=\"dataframe\">\n",
       "  <thead>\n",
       "    <tr style=\"text-align: right;\">\n",
       "      <th></th>\n",
       "      <th>sum_gamerounds</th>\n",
       "      <th>userid</th>\n",
       "    </tr>\n",
       "  </thead>\n",
       "  <tbody>\n",
       "    <tr>\n",
       "      <th>0</th>\n",
       "      <td>0</td>\n",
       "      <td>1937</td>\n",
       "    </tr>\n",
       "    <tr>\n",
       "      <th>1</th>\n",
       "      <td>1</td>\n",
       "      <td>2749</td>\n",
       "    </tr>\n",
       "    <tr>\n",
       "      <th>2</th>\n",
       "      <td>2</td>\n",
       "      <td>2198</td>\n",
       "    </tr>\n",
       "    <tr>\n",
       "      <th>3</th>\n",
       "      <td>3</td>\n",
       "      <td>1899</td>\n",
       "    </tr>\n",
       "    <tr>\n",
       "      <th>4</th>\n",
       "      <td>4</td>\n",
       "      <td>1831</td>\n",
       "    </tr>\n",
       "    <tr>\n",
       "      <th>...</th>\n",
       "      <td>...</td>\n",
       "      <td>...</td>\n",
       "    </tr>\n",
       "    <tr>\n",
       "      <th>773</th>\n",
       "      <td>1906</td>\n",
       "      <td>1</td>\n",
       "    </tr>\n",
       "    <tr>\n",
       "      <th>774</th>\n",
       "      <td>2156</td>\n",
       "      <td>1</td>\n",
       "    </tr>\n",
       "    <tr>\n",
       "      <th>775</th>\n",
       "      <td>2251</td>\n",
       "      <td>1</td>\n",
       "    </tr>\n",
       "    <tr>\n",
       "      <th>776</th>\n",
       "      <td>2438</td>\n",
       "      <td>1</td>\n",
       "    </tr>\n",
       "    <tr>\n",
       "      <th>777</th>\n",
       "      <td>2961</td>\n",
       "      <td>1</td>\n",
       "    </tr>\n",
       "  </tbody>\n",
       "</table>\n",
       "<p>778 rows × 2 columns</p>\n",
       "</div>"
      ],
      "text/plain": [
       "     sum_gamerounds  userid\n",
       "0                 0    1937\n",
       "1                 1    2749\n",
       "2                 2    2198\n",
       "3                 3    1899\n",
       "4                 4    1831\n",
       "..              ...     ...\n",
       "773            1906       1\n",
       "774            2156       1\n",
       "775            2251       1\n",
       "776            2438       1\n",
       "777            2961       1\n",
       "\n",
       "[778 rows x 2 columns]"
      ]
     },
     "execution_count": 27,
     "metadata": {},
     "output_type": "execute_result"
    }
   ],
   "source": [
    "# Количество раундов в контрольной группе.\n",
    "control_dist_rounds=control.groupby('sum_gamerounds', as_index=False).agg({'userid':'count'})\n",
    "control_dist_rounds=control_dist_rounds.iloc[0:778]\n",
    "control_dist_rounds"
   ]
  },
  {
   "cell_type": "code",
   "execution_count": 31,
   "id": "0a75cd5e-0ece-491d-b867-9726ec170d10",
   "metadata": {},
   "outputs": [
    {
     "data": {
      "text/html": [
       "<div>\n",
       "<style scoped>\n",
       "    .dataframe tbody tr th:only-of-type {\n",
       "        vertical-align: middle;\n",
       "    }\n",
       "\n",
       "    .dataframe tbody tr th {\n",
       "        vertical-align: top;\n",
       "    }\n",
       "\n",
       "    .dataframe thead th {\n",
       "        text-align: right;\n",
       "    }\n",
       "</style>\n",
       "<table border=\"1\" class=\"dataframe\">\n",
       "  <thead>\n",
       "    <tr style=\"text-align: right;\">\n",
       "      <th></th>\n",
       "      <th>sum_gamerounds</th>\n",
       "      <th>userid</th>\n",
       "    </tr>\n",
       "  </thead>\n",
       "  <tbody>\n",
       "    <tr>\n",
       "      <th>0</th>\n",
       "      <td>0</td>\n",
       "      <td>2057</td>\n",
       "    </tr>\n",
       "    <tr>\n",
       "      <th>1</th>\n",
       "      <td>1</td>\n",
       "      <td>2789</td>\n",
       "    </tr>\n",
       "    <tr>\n",
       "      <th>2</th>\n",
       "      <td>2</td>\n",
       "      <td>2408</td>\n",
       "    </tr>\n",
       "    <tr>\n",
       "      <th>3</th>\n",
       "      <td>3</td>\n",
       "      <td>2059</td>\n",
       "    </tr>\n",
       "    <tr>\n",
       "      <th>4</th>\n",
       "      <td>4</td>\n",
       "      <td>1798</td>\n",
       "    </tr>\n",
       "    <tr>\n",
       "      <th>...</th>\n",
       "      <td>...</td>\n",
       "      <td>...</td>\n",
       "    </tr>\n",
       "    <tr>\n",
       "      <th>787</th>\n",
       "      <td>2015</td>\n",
       "      <td>1</td>\n",
       "    </tr>\n",
       "    <tr>\n",
       "      <th>788</th>\n",
       "      <td>2063</td>\n",
       "      <td>1</td>\n",
       "    </tr>\n",
       "    <tr>\n",
       "      <th>789</th>\n",
       "      <td>2124</td>\n",
       "      <td>1</td>\n",
       "    </tr>\n",
       "    <tr>\n",
       "      <th>790</th>\n",
       "      <td>2294</td>\n",
       "      <td>1</td>\n",
       "    </tr>\n",
       "    <tr>\n",
       "      <th>791</th>\n",
       "      <td>2640</td>\n",
       "      <td>1</td>\n",
       "    </tr>\n",
       "  </tbody>\n",
       "</table>\n",
       "<p>792 rows × 2 columns</p>\n",
       "</div>"
      ],
      "text/plain": [
       "     sum_gamerounds  userid\n",
       "0                 0    2057\n",
       "1                 1    2789\n",
       "2                 2    2408\n",
       "3                 3    2059\n",
       "4                 4    1798\n",
       "..              ...     ...\n",
       "787            2015       1\n",
       "788            2063       1\n",
       "789            2124       1\n",
       "790            2294       1\n",
       "791            2640       1\n",
       "\n",
       "[792 rows x 2 columns]"
      ]
     },
     "execution_count": 31,
     "metadata": {},
     "output_type": "execute_result"
    }
   ],
   "source": [
    "# Количество раундов в тестовой группе.\n",
    "test_dist_rounds=test.groupby('sum_gamerounds', as_index=False).agg({'userid':'count'})\n",
    "test_dist_rounds"
   ]
  },
  {
   "cell_type": "code",
   "execution_count": 95,
   "id": "9e541f36-9591-4026-bfb5-edff899c6c04",
   "metadata": {},
   "outputs": [
    {
     "data": {
      "image/png": "[encoded data removed]",
      "text/plain": [
       "<Figure size 700x700 with 4 Axes>"
      ]
     },
     "metadata": {},
     "output_type": "display_data"
    }
   ],
   "source": [
    "# Изобразим графики.\n",
    "plt.style.use('ggplot')\n",
    "fig, ax=plt.subplots(2, 2)\n",
    "fig.set_figheight(7)\n",
    "fig.set_figwidth(7)\n",
    "\n",
    "ax[0, 0].boxplot(control_dist_rounds['sum_gamerounds'])\n",
    "ax[0, 0].set_title('Gamerounds in Control group')\n",
    "ax[0, 0].set_xlabel('Gamerounds Distribution')\n",
    "ax[0, 0].tick_params(axis='x', which='both', bottom=False, top=False, labelbottom=False)\n",
    "\n",
    "ax[0, 1].hist(control_dist_rounds['sum_gamerounds'])\n",
    "ax[0, 1].set_title('Gamerounds in Control group')\n",
    "\n",
    "ax[1, 0].boxplot(test_dist_rounds['sum_gamerounds'])\n",
    "ax[1, 0].set_title('Gamerounds in Test group')\n",
    "ax[1, 0].set_xlabel('Gamerounds Distribution')\n",
    "ax[1, 0].tick_params(axis='x', which='both', bottom=False, top=False, labelbottom=False)\n",
    "\n",
    "ax[1, 1].hist(test_dist_rounds['sum_gamerounds'])\n",
    "ax[1, 1].set_title('Gamerounds in Test group')\n",
    "\n",
    "fig.tight_layout(pad=2.5)\n",
    "plt.show()"
   ]
  },
  {
   "cell_type": "markdown",
   "id": "e24086fe-0ab3-41b9-b1d2-e9f41c3eeae5",
   "metadata": {},
   "source": [
    "Распределения ненормальны, присутствуют выбросы, количество наблюдений в выборках не равно. С учетом всего вышесказанного применим Bootstrap и сравним медианы в группах."
   ]
  },
  {
   "cell_type": "code",
   "execution_count": 98,
   "id": "c113d43b-5f3b-4aee-8803-cf0fa14f8040",
   "metadata": {},
   "outputs": [],
   "source": [
    "# Создаем одномерные массивы из значений количества раундов в группах.\n",
    "control_array=np.array(control_dist_rounds['sum_gamerounds'])\n",
    "test_array=np.array(test_dist_rounds['sum_gamerounds'])"
   ]
  },
  {
   "cell_type": "code",
   "execution_count": 115,
   "id": "c46b0a4d-5ec3-4702-b6a7-ae35fa903d85",
   "metadata": {},
   "outputs": [
    {
     "data": {
      "text/plain": [
       "BootstrapResult(confidence_interval=ConfidenceInterval(low=362.0, high=417.5), bootstrap_distribution=array([399.5, 385. , 392.5, ..., 400.5, 374.5, 392.5]), standard_error=14.245591591443281)"
      ]
     },
     "execution_count": 115,
     "metadata": {},
     "output_type": "execute_result"
    }
   ],
   "source": [
    "# Применяем Bootstrap к контрольной группе.\n",
    "stats.bootstrap((control_array, ), statistic=np.median)"
   ]
  },
  {
   "cell_type": "code",
   "execution_count": 116,
   "id": "46e42648-702d-41eb-b40e-5d9d25391a0d",
   "metadata": {},
   "outputs": [
    {
     "data": {
      "text/plain": [
       "BootstrapResult(confidence_interval=ConfidenceInterval(low=368.0581753873654, high=424.0), bootstrap_distribution=array([379.5, 431. , 393. , ..., 390. , 386. , 396.5]), standard_error=14.336248179457506)"
      ]
     },
     "execution_count": 116,
     "metadata": {},
     "output_type": "execute_result"
    }
   ],
   "source": [
    "# Применяем Bootstrap к тестовой группе.\n",
    "stats.bootstrap((test_array, ), statistic=np.median)"
   ]
  },
  {
   "cell_type": "markdown",
   "id": "aba97f58-1260-4b52-a88c-f4d6c07ce790",
   "metadata": {},
   "source": [
    "Доверительные интервалы медианных значений групп пересекаются, из этого следует, что медианы групп статистически значимо не отличаются."
   ]
  },
  {
   "cell_type": "markdown",
   "id": "6dd5d17d-0817-4087-adbb-546d8e760447",
   "metadata": {},
   "source": [
    "Теперь сравним уровни удержания в первый день и в 7 день в группах. Для этого создадим 2 таблицы с перекрестными значениями (для каждого вида ретеншена) и применим критерий Хи-квадрат Пирсона."
   ]
  },
  {
   "cell_type": "code",
   "execution_count": 139,
   "id": "390528e1-7a9d-460f-a0fa-5232176fcea1",
   "metadata": {},
   "outputs": [],
   "source": [
    "# Создаем перекрестные таблицы.\n",
    "data_crosstab_ret1=pd.crosstab(data['version'], data['retention_1'])\n",
    "data_crosstab_ret7=pd.crosstab(data['version'], data['retention_7'])"
   ]
  },
  {
   "cell_type": "code",
   "execution_count": 140,
   "id": "e5e004c4-747d-4276-b223-6b85e748a345",
   "metadata": {},
   "outputs": [
    {
     "data": {
      "text/plain": [
       "Chi2ContingencyResult(statistic=3.1591007878782262, pvalue=0.07550476210309086, dof=1, expected_freq=array([[24799.13514952, 19900.86485048],\n",
       "       [25236.86485048, 20252.13514952]]))"
      ]
     },
     "execution_count": 140,
     "metadata": {},
     "output_type": "execute_result"
    }
   ],
   "source": [
    "# Применяем критерий для ретеншена первого дня.\n",
    "stats.chi2_contingency(data_crosstab_ret1)"
   ]
  },
  {
   "cell_type": "code",
   "execution_count": 141,
   "id": "9e2bc999-253d-4bb5-ab49-8006a8e71878",
   "metadata": {},
   "outputs": [
    {
     "data": {
      "text/plain": [
       "Chi2ContingencyResult(statistic=9.959086799559167, pvalue=0.0016005742679058301, dof=1, expected_freq=array([[36382.90257127,  8317.09742873],\n",
       "       [37025.09742873,  8463.90257127]]))"
      ]
     },
     "execution_count": 141,
     "metadata": {},
     "output_type": "execute_result"
    }
   ],
   "source": [
    "# Применяем критерий для ретеншена седьмого дня.\n",
    "stats.chi2_contingency(data_crosstab_ret7)"
   ]
  },
  {
   "cell_type": "markdown",
   "id": "6e1232cc-78bf-4871-8fda-f1912feb8e8b",
   "metadata": {},
   "source": [
    "<ul>\n",
    "<li>Для ретеншена первого дня мы не выявили статистически значимых отличий в группах.\n",
    "<li>Для ретеншена седьмого дня мы выявили статистически значимые отличия. Основываясь на значениях в перекрестной таблице и результатах применения критерия, мы можем сделать вывод, что ретеншен 7 дня статистически значимо уменьшился в тестовой группе.\n",
    "<ul>"
   ]
  },
  {
   "cell_type": "markdown",
   "id": "ac3c4fc4-4d4d-4bf4-9049-c5580f49e646",
   "metadata": {},
   "source": [
    "### Вывод\n",
    "Качество нововведения оценивается на множестве параметров: удержание игроков; количество денег, потраченных игроками на игру и.т.д. С информацией, данной в этом датасете мы можем делать заключения только по параметрам удержания игроков и сыгранных ими раундов. Основываясь на нашем анализе мы можем сделать следующие выводы:\n",
    "<ul>\n",
    "<li>Количество раундов, сыгранных игроками не изменилось в тестовой группе.\n",
    "<li>Удержание игроков на короткой дистанции в тестовой группе не изменилось, а на длинной дистанции стало меньше.\n",
    "<ul>"
   ]
  },
  {
   "cell_type": "markdown",
   "id": "4b52bc4f-e562-4bbb-bf4e-3e426095d7e5",
   "metadata": {},
   "source": [
    "##### Заключительный вывод: если наша цель повысить удержание пользователей, то изменять размещение первых ворот с 30 уровня до 40 НЕ стоит."
   ]
  },
  {
   "cell_type": "code",
   "execution_count": null,
   "id": "8c6c4cba-30a5-4761-8963-8a5ba0eaeec8",
   "metadata": {},
   "outputs": [],
   "source": []
  }
 ],
 "metadata": {
  "kernelspec": {
   "display_name": "Python 3 (ipykernel)",
   "language": "python",
   "name": "python3"
  },
  "language_info": {
   "codemirror_mode": {
    "name": "ipython",
    "version": 3
   },
   "file_extension": ".py",
   "mimetype": "text/x-python",
   "name": "python",
   "nbconvert_exporter": "python",
   "pygments_lexer": "ipython3",
   "version": "3.11.4"
  }
 },
 "nbformat": 4,
 "nbformat_minor": 5
}
