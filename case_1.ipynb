{
 "cells": [
  {
   "cell_type": "markdown",
   "metadata": {},
   "source": [
    "# Кейс №1 - Приложение знакомств.\n",
    "Оценить, правда ли, что новый алгоритм улучшил качество сервиса. Для этого выберем метрики, которые отвечают за качество сервиса, и статистически сравним эти метрики в двух группах. Наша главная задача заключается в том, чтобы у пользователей случалось больше мэтчей. Поэтому в качестве целевой метрики возьмем мэтч рейт, который высчитывается как отношение количества мэтчей у пользователя к общему количеству свайпов (т.е. возможных пар с этим пользователем, для упрощения будем называть свайпами). В качестве прокси-метрики возьмем показатель свайпов на пользователя (стали ли пользователи впринципе больше свайпать - охотнее искать пару)."
   ]
  },
  {
   "cell_type": "markdown",
   "metadata": {},
   "source": [
    "### Этапы работы:\n",
    "1. Выгрузка и предобработка данных.\n",
    "2. Анализ целевой метрики.\n",
    "3. Анализ прокси-метрики.\n",
    "4. Выводы."
   ]
  },
  {
   "cell_type": "markdown",
   "metadata": {},
   "source": [
    "### Этап 1. Выгрузка и предобработка данных."
   ]
  },
  {
   "cell_type": "code",
   "execution_count": 1,
   "metadata": {},
   "outputs": [],
   "source": [
    "# Импортируем требующиеся библиотеки.\n",
    "import pandas as pd\n",
    "import seaborn as sns\n",
    "from scipy import stats\n",
    "import numpy as np\n",
    "import matplotlib.pyplot as plt\n",
    "%matplotlib inline"
   ]
  },
  {
   "cell_type": "code",
   "execution_count": 2,
   "metadata": {},
   "outputs": [],
   "source": [
    "# Устанавливаем масштаб графиков и шрифта.\n",
    "sns.set(rc = {'figure.figsize':(12, 8)})"
   ]
  },
  {
   "cell_type": "code",
   "execution_count": 3,
   "metadata": {
    "scrolled": true
   },
   "outputs": [
    {
     "data": {
      "text/html": [
       "<div>\n",
       "<style scoped>\n",
       "    .dataframe tbody tr th:only-of-type {\n",
       "        vertical-align: middle;\n",
       "    }\n",
       "\n",
       "    .dataframe tbody tr th {\n",
       "        vertical-align: top;\n",
       "    }\n",
       "\n",
       "    .dataframe thead th {\n",
       "        text-align: right;\n",
       "    }\n",
       "</style>\n",
       "<table border=\"1\" class=\"dataframe\">\n",
       "  <thead>\n",
       "    <tr style=\"text-align: right;\">\n",
       "      <th></th>\n",
       "      <th>user_id_1</th>\n",
       "      <th>user_id_2</th>\n",
       "      <th>group</th>\n",
       "      <th>is_match</th>\n",
       "    </tr>\n",
       "  </thead>\n",
       "  <tbody>\n",
       "    <tr>\n",
       "      <th>0</th>\n",
       "      <td>79</td>\n",
       "      <td>91</td>\n",
       "      <td>1</td>\n",
       "      <td>1</td>\n",
       "    </tr>\n",
       "    <tr>\n",
       "      <th>1</th>\n",
       "      <td>716</td>\n",
       "      <td>353</td>\n",
       "      <td>1</td>\n",
       "      <td>1</td>\n",
       "    </tr>\n",
       "    <tr>\n",
       "      <th>2</th>\n",
       "      <td>423</td>\n",
       "      <td>677</td>\n",
       "      <td>0</td>\n",
       "      <td>0</td>\n",
       "    </tr>\n",
       "    <tr>\n",
       "      <th>3</th>\n",
       "      <td>658</td>\n",
       "      <td>165</td>\n",
       "      <td>1</td>\n",
       "      <td>1</td>\n",
       "    </tr>\n",
       "    <tr>\n",
       "      <th>4</th>\n",
       "      <td>969</td>\n",
       "      <td>155</td>\n",
       "      <td>0</td>\n",
       "      <td>1</td>\n",
       "    </tr>\n",
       "  </tbody>\n",
       "</table>\n",
       "</div>"
      ],
      "text/plain": [
       "   user_id_1  user_id_2  group  is_match\n",
       "0         79         91      1         1\n",
       "1        716        353      1         1\n",
       "2        423        677      0         0\n",
       "3        658        165      1         1\n",
       "4        969        155      0         1"
      ]
     },
     "execution_count": 3,
     "metadata": {},
     "output_type": "execute_result"
    }
   ],
   "source": [
    "# Считываем данные.\n",
    "data = pd.read_csv('/mnt/HC_Volume_18315164/home-jupyter/jupyter-i-belyj/A_B_tests/dating_data.csv')\n",
    "data.head()"
   ]
  },
  {
   "cell_type": "markdown",
   "metadata": {},
   "source": [
    "Пользователь может встречаться как в колонке 'user_id_1', так и в колонке 'user_id_2'. Чтобы учесть все свайпы пользователей, соорудим одну общую колонку для каждого свайпа каждого пользователя (все остальные данные так же не забываем перенести)."
   ]
  },
  {
   "cell_type": "code",
   "execution_count": 4,
   "metadata": {},
   "outputs": [],
   "source": [
    "# Отбираем нужные срезы из датафрейма.\n",
    "temp_1 = data[['user_id_1', 'group', 'is_match']].rename(columns={'user_id_1':'user_id'})\n",
    "temp_2 = data[['user_id_2', 'group', 'is_match']].rename(columns={'user_id_2':'user_id'})"
   ]
  },
  {
   "cell_type": "code",
   "execution_count": 5,
   "metadata": {},
   "outputs": [],
   "source": [
    "# Складываем срезы, добавляем колонку с единицей (показывает что строка-1 свайп).\n",
    "result = pd.concat([temp_1, temp_2])\n",
    "result['counter'] = 1"
   ]
  },
  {
   "cell_type": "code",
   "execution_count": 6,
   "metadata": {},
   "outputs": [
    {
     "data": {
      "text/html": [
       "<div>\n",
       "<style scoped>\n",
       "    .dataframe tbody tr th:only-of-type {\n",
       "        vertical-align: middle;\n",
       "    }\n",
       "\n",
       "    .dataframe tbody tr th {\n",
       "        vertical-align: top;\n",
       "    }\n",
       "\n",
       "    .dataframe thead th {\n",
       "        text-align: right;\n",
       "    }\n",
       "</style>\n",
       "<table border=\"1\" class=\"dataframe\">\n",
       "  <thead>\n",
       "    <tr style=\"text-align: right;\">\n",
       "      <th></th>\n",
       "      <th>user_id</th>\n",
       "      <th>group</th>\n",
       "      <th>is_match</th>\n",
       "      <th>counter</th>\n",
       "      <th>match_rate</th>\n",
       "    </tr>\n",
       "  </thead>\n",
       "  <tbody>\n",
       "    <tr>\n",
       "      <th>0</th>\n",
       "      <td>1</td>\n",
       "      <td>1</td>\n",
       "      <td>16</td>\n",
       "      <td>37</td>\n",
       "      <td>0.432432</td>\n",
       "    </tr>\n",
       "    <tr>\n",
       "      <th>1</th>\n",
       "      <td>2</td>\n",
       "      <td>1</td>\n",
       "      <td>16</td>\n",
       "      <td>39</td>\n",
       "      <td>0.410256</td>\n",
       "    </tr>\n",
       "    <tr>\n",
       "      <th>2</th>\n",
       "      <td>3</td>\n",
       "      <td>1</td>\n",
       "      <td>8</td>\n",
       "      <td>25</td>\n",
       "      <td>0.320000</td>\n",
       "    </tr>\n",
       "    <tr>\n",
       "      <th>3</th>\n",
       "      <td>4</td>\n",
       "      <td>0</td>\n",
       "      <td>3</td>\n",
       "      <td>17</td>\n",
       "      <td>0.176471</td>\n",
       "    </tr>\n",
       "    <tr>\n",
       "      <th>4</th>\n",
       "      <td>5</td>\n",
       "      <td>1</td>\n",
       "      <td>18</td>\n",
       "      <td>34</td>\n",
       "      <td>0.529412</td>\n",
       "    </tr>\n",
       "    <tr>\n",
       "      <th>...</th>\n",
       "      <td>...</td>\n",
       "      <td>...</td>\n",
       "      <td>...</td>\n",
       "      <td>...</td>\n",
       "      <td>...</td>\n",
       "    </tr>\n",
       "    <tr>\n",
       "      <th>995</th>\n",
       "      <td>996</td>\n",
       "      <td>0</td>\n",
       "      <td>2</td>\n",
       "      <td>14</td>\n",
       "      <td>0.142857</td>\n",
       "    </tr>\n",
       "    <tr>\n",
       "      <th>996</th>\n",
       "      <td>997</td>\n",
       "      <td>0</td>\n",
       "      <td>1</td>\n",
       "      <td>26</td>\n",
       "      <td>0.038462</td>\n",
       "    </tr>\n",
       "    <tr>\n",
       "      <th>997</th>\n",
       "      <td>998</td>\n",
       "      <td>1</td>\n",
       "      <td>18</td>\n",
       "      <td>36</td>\n",
       "      <td>0.500000</td>\n",
       "    </tr>\n",
       "    <tr>\n",
       "      <th>998</th>\n",
       "      <td>999</td>\n",
       "      <td>0</td>\n",
       "      <td>3</td>\n",
       "      <td>20</td>\n",
       "      <td>0.150000</td>\n",
       "    </tr>\n",
       "    <tr>\n",
       "      <th>999</th>\n",
       "      <td>1000</td>\n",
       "      <td>1</td>\n",
       "      <td>19</td>\n",
       "      <td>38</td>\n",
       "      <td>0.500000</td>\n",
       "    </tr>\n",
       "  </tbody>\n",
       "</table>\n",
       "<p>1000 rows × 5 columns</p>\n",
       "</div>"
      ],
      "text/plain": [
       "     user_id  group  is_match  counter  match_rate\n",
       "0          1      1        16       37    0.432432\n",
       "1          2      1        16       39    0.410256\n",
       "2          3      1         8       25    0.320000\n",
       "3          4      0         3       17    0.176471\n",
       "4          5      1        18       34    0.529412\n",
       "..       ...    ...       ...      ...         ...\n",
       "995      996      0         2       14    0.142857\n",
       "996      997      0         1       26    0.038462\n",
       "997      998      1        18       36    0.500000\n",
       "998      999      0         3       20    0.150000\n",
       "999     1000      1        19       38    0.500000\n",
       "\n",
       "[1000 rows x 5 columns]"
      ]
     },
     "execution_count": 6,
     "metadata": {},
     "output_type": "execute_result"
    }
   ],
   "source": [
    "# Группируем по пользователю и находим количество мэтчей, общее количество свайпов и мэтч рейт.\n",
    "result = result.groupby(['user_id', 'group'], as_index=False) \\\n",
    "               .agg({'is_match':'sum', 'counter':'sum'}) \\\n",
    "               .assign(match_rate = lambda x: x.is_match / x.counter)\n",
    "result"
   ]
  },
  {
   "cell_type": "markdown",
   "metadata": {},
   "source": [
    "### Этап 2. Анализ целевой метрики."
   ]
  },
  {
   "cell_type": "markdown",
   "metadata": {},
   "source": [
    "Гипотезы для целевой метрики:\n",
    "<ul>\n",
    "<li>H_0 - Мэтч рейт в тестовой группе относительно мэтч рейта в контрольной группе не изменился.\n",
    "<li>H_1 - Мэтч рейт в тестовой группе относительно мэтч рейта в контрольной группе изменился."
   ]
  },
  {
   "cell_type": "code",
   "execution_count": 7,
   "metadata": {},
   "outputs": [
    {
     "data": {
      "text/plain": [
       "count    501.000000\n",
       "mean       0.193549\n",
       "std        0.090739\n",
       "min        0.000000\n",
       "25%        0.130435\n",
       "50%        0.190476\n",
       "75%        0.250000\n",
       "max        0.500000\n",
       "Name: match_rate, dtype: float64"
      ]
     },
     "execution_count": 7,
     "metadata": {},
     "output_type": "execute_result"
    }
   ],
   "source": [
    "# Описательная статистика для мэтч рейта в контрольной группе.\n",
    "result[result.group == 0].match_rate.describe()"
   ]
  },
  {
   "cell_type": "code",
   "execution_count": 8,
   "metadata": {
    "scrolled": true
   },
   "outputs": [
    {
     "data": {
      "text/plain": [
       "count    499.000000\n",
       "mean       0.402271\n",
       "std        0.081631\n",
       "min        0.119048\n",
       "25%        0.342481\n",
       "50%        0.404762\n",
       "75%        0.454545\n",
       "max        0.714286\n",
       "Name: match_rate, dtype: float64"
      ]
     },
     "execution_count": 8,
     "metadata": {},
     "output_type": "execute_result"
    }
   ],
   "source": [
    "# Описательная статистика для мэтч рейта в тестовой группе.\n",
    "result[result.group == 1].match_rate.describe()"
   ]
  },
  {
   "cell_type": "markdown",
   "metadata": {},
   "source": [
    "Среднее значение в тестовой группе выше, чем в контрольной. Если различия признаем статистически значимыми, то новый алгоритм для поиска анкет положительно повлиял на мэтч рейт, а значит сделал приложение лучше."
   ]
  },
  {
   "cell_type": "markdown",
   "metadata": {},
   "source": [
    "Посмотрим на распределение мэтч рейта по нашим группам, проверим, однородны ли дисперсии в наших выборках и решим, какой статистический критерий применить."
   ]
  },
  {
   "cell_type": "code",
   "execution_count": 9,
   "metadata": {},
   "outputs": [],
   "source": [
    "# Берем показатели мэтч рейта в виде одномерных массивов.\n",
    "sample_control = np.array(result[result.group == 0].match_rate)\n",
    "sample_test = np.array(result[result.group == 1].match_rate)"
   ]
  },
  {
   "cell_type": "code",
   "execution_count": 10,
   "metadata": {},
   "outputs": [
    {
     "data": {
      "image/png": "[encoded data removed]",
      "text/plain": [
       "<Figure size 864x576 with 1 Axes>"
      ]
     },
     "metadata": {},
     "output_type": "display_data"
    }
   ],
   "source": [
    "# Изобразим распределение мэтч рейта в контрольной группе.\n",
    "sns.histplot(data=result[result.group == 0], x='match_rate', kde=True, bins = 30);\n",
    "plt.xlabel('Доля мэтчей')\n",
    "plt.ylabel('Количество пользователей')\n",
    "plt.title('Распределение мэтч рейта в контрольной группе.');"
   ]
  },
  {
   "cell_type": "code",
   "execution_count": 11,
   "metadata": {},
   "outputs": [
    {
     "data": {
      "text/plain": [
       "ShapiroResult(statistic=0.9935588240623474, pvalue=0.031214840710163116)"
      ]
     },
     "execution_count": 11,
     "metadata": {},
     "output_type": "execute_result"
    }
   ],
   "source": [
    "# Проверим распределение на нормальность.\n",
    "stats.shapiro(sample_control)\n",
    "# P-value меньше 0.05 => выборка не происходит из нормального распределения."
   ]
  },
  {
   "cell_type": "code",
   "execution_count": 12,
   "metadata": {},
   "outputs": [
    {
     "data": {
      "image/png": "[encoded data removed]",
      "text/plain": [
       "<Figure size 864x576 with 1 Axes>"
      ]
     },
     "metadata": {},
     "output_type": "display_data"
    }
   ],
   "source": [
    "# Изобразим распределение мэтч рейта в тестовой группе.\n",
    "sns.histplot(data=result[result.group == 1], x='match_rate', kde=True, bins = 30);\n",
    "plt.xlabel('Доля мэтчей')\n",
    "plt.ylabel('Количество пользователей')\n",
    "plt.title('Распределение мэтч рейта в тестовой группе.');"
   ]
  },
  {
   "cell_type": "code",
   "execution_count": 13,
   "metadata": {},
   "outputs": [
    {
     "data": {
      "text/plain": [
       "ShapiroResult(statistic=0.996323823928833, pvalue=0.30635735392570496)"
      ]
     },
     "execution_count": 13,
     "metadata": {},
     "output_type": "execute_result"
    }
   ],
   "source": [
    "# Проверим распределение на нормальность.\n",
    "stats.shapiro(sample_test)\n",
    "# P-value больше 0.05 => выборка происходит из нормального распределения."
   ]
  },
  {
   "cell_type": "code",
   "execution_count": 14,
   "metadata": {},
   "outputs": [
    {
     "data": {
      "text/plain": [
       "0    501\n",
       "1    499\n",
       "Name: group, dtype: int64"
      ]
     },
     "execution_count": 14,
     "metadata": {},
     "output_type": "execute_result"
    }
   ],
   "source": [
    "# Количество пользователей по группам.\n",
    "result.group.value_counts()"
   ]
  },
  {
   "cell_type": "code",
   "execution_count": 15,
   "metadata": {},
   "outputs": [
    {
     "data": {
      "text/plain": [
       "LeveneResult(statistic=7.013821816267975, pvalue=0.008215929686873376)"
      ]
     },
     "execution_count": 15,
     "metadata": {},
     "output_type": "execute_result"
    }
   ],
   "source": [
    "# Смотрим на однородность дисперсий в выборках.\n",
    "stats.levene(sample_control, sample_test)\n",
    "# P-value меньше 0.05 => отклоняем нулевую гипотезу о равенстве дисперсий."
   ]
  },
  {
   "cell_type": "markdown",
   "metadata": {},
   "source": [
    "Итого:\n",
    "<ul>\n",
    "<li>Признак в контрольной выборке распределен не нормально, признак в тестовой выборке распределен нормально.\n",
    "<li>Количество наблюдений в выборках практически равно и большое (сильно больше 30).\n",
    "<li>Дисперсии в выборках не однородны.\n",
    "<ul>"
   ]
  },
  {
   "cell_type": "markdown",
   "metadata": {},
   "source": [
    "В связи со всем вышесказанным в качестве статистического критерия воспользуемся T-тестом с параметром equal_var=False (T-тест Уэлча, который учитывает неоднородность дисперсий в выборках)."
   ]
  },
  {
   "cell_type": "code",
   "execution_count": 16,
   "metadata": {},
   "outputs": [
    {
     "data": {
      "text/plain": [
       "Ttest_indResult(statistic=-38.24265817843151, pvalue=4.415153883535013e-197)"
      ]
     },
     "execution_count": 16,
     "metadata": {},
     "output_type": "execute_result"
    }
   ],
   "source": [
    "# Применяем T-тест.\n",
    "stats.ttest_ind(sample_control, sample_test, equal_var=False)"
   ]
  },
  {
   "cell_type": "markdown",
   "metadata": {},
   "source": [
    "P-value < 0.05, значит отклоняем нулевую гипотезу о равенстве средних значений мэтч рейта. При этом, мэтч рейт в тестовой группе по сравнению с контрольной статистически значимо увеличился."
   ]
  },
  {
   "cell_type": "markdown",
   "metadata": {},
   "source": [
    "### Этап 3. Анализ прокси-метрики."
   ]
  },
  {
   "cell_type": "markdown",
   "metadata": {},
   "source": [
    "Гипотезы для прокси-метрики:\n",
    "<ul>\n",
    "<li>H_0 - Количество свайпов в тестовой группе относительно количества свайпов в контрольной группе не изменилось.\n",
    "<li>H_1 - Количество свайпов в тестовой группе относительно количества свайпов в контрольной группе изменилось."
   ]
  },
  {
   "cell_type": "code",
   "execution_count": 28,
   "metadata": {},
   "outputs": [
    {
     "data": {
      "text/html": [
       "<div>\n",
       "<style scoped>\n",
       "    .dataframe tbody tr th:only-of-type {\n",
       "        vertical-align: middle;\n",
       "    }\n",
       "\n",
       "    .dataframe tbody tr th {\n",
       "        vertical-align: top;\n",
       "    }\n",
       "\n",
       "    .dataframe thead th {\n",
       "        text-align: right;\n",
       "    }\n",
       "</style>\n",
       "<table border=\"1\" class=\"dataframe\">\n",
       "  <thead>\n",
       "    <tr style=\"text-align: right;\">\n",
       "      <th></th>\n",
       "      <th>user_id</th>\n",
       "      <th>group</th>\n",
       "      <th>is_match</th>\n",
       "      <th>counter</th>\n",
       "      <th>match_rate</th>\n",
       "    </tr>\n",
       "  </thead>\n",
       "  <tbody>\n",
       "    <tr>\n",
       "      <th>0</th>\n",
       "      <td>1</td>\n",
       "      <td>1</td>\n",
       "      <td>16</td>\n",
       "      <td>37</td>\n",
       "      <td>0.432432</td>\n",
       "    </tr>\n",
       "    <tr>\n",
       "      <th>1</th>\n",
       "      <td>2</td>\n",
       "      <td>1</td>\n",
       "      <td>16</td>\n",
       "      <td>39</td>\n",
       "      <td>0.410256</td>\n",
       "    </tr>\n",
       "    <tr>\n",
       "      <th>2</th>\n",
       "      <td>3</td>\n",
       "      <td>1</td>\n",
       "      <td>8</td>\n",
       "      <td>25</td>\n",
       "      <td>0.320000</td>\n",
       "    </tr>\n",
       "    <tr>\n",
       "      <th>3</th>\n",
       "      <td>4</td>\n",
       "      <td>0</td>\n",
       "      <td>3</td>\n",
       "      <td>17</td>\n",
       "      <td>0.176471</td>\n",
       "    </tr>\n",
       "    <tr>\n",
       "      <th>4</th>\n",
       "      <td>5</td>\n",
       "      <td>1</td>\n",
       "      <td>18</td>\n",
       "      <td>34</td>\n",
       "      <td>0.529412</td>\n",
       "    </tr>\n",
       "    <tr>\n",
       "      <th>...</th>\n",
       "      <td>...</td>\n",
       "      <td>...</td>\n",
       "      <td>...</td>\n",
       "      <td>...</td>\n",
       "      <td>...</td>\n",
       "    </tr>\n",
       "    <tr>\n",
       "      <th>995</th>\n",
       "      <td>996</td>\n",
       "      <td>0</td>\n",
       "      <td>2</td>\n",
       "      <td>14</td>\n",
       "      <td>0.142857</td>\n",
       "    </tr>\n",
       "    <tr>\n",
       "      <th>996</th>\n",
       "      <td>997</td>\n",
       "      <td>0</td>\n",
       "      <td>1</td>\n",
       "      <td>26</td>\n",
       "      <td>0.038462</td>\n",
       "    </tr>\n",
       "    <tr>\n",
       "      <th>997</th>\n",
       "      <td>998</td>\n",
       "      <td>1</td>\n",
       "      <td>18</td>\n",
       "      <td>36</td>\n",
       "      <td>0.500000</td>\n",
       "    </tr>\n",
       "    <tr>\n",
       "      <th>998</th>\n",
       "      <td>999</td>\n",
       "      <td>0</td>\n",
       "      <td>3</td>\n",
       "      <td>20</td>\n",
       "      <td>0.150000</td>\n",
       "    </tr>\n",
       "    <tr>\n",
       "      <th>999</th>\n",
       "      <td>1000</td>\n",
       "      <td>1</td>\n",
       "      <td>19</td>\n",
       "      <td>38</td>\n",
       "      <td>0.500000</td>\n",
       "    </tr>\n",
       "  </tbody>\n",
       "</table>\n",
       "<p>1000 rows × 5 columns</p>\n",
       "</div>"
      ],
      "text/plain": [
       "     user_id  group  is_match  counter  match_rate\n",
       "0          1      1        16       37    0.432432\n",
       "1          2      1        16       39    0.410256\n",
       "2          3      1         8       25    0.320000\n",
       "3          4      0         3       17    0.176471\n",
       "4          5      1        18       34    0.529412\n",
       "..       ...    ...       ...      ...         ...\n",
       "995      996      0         2       14    0.142857\n",
       "996      997      0         1       26    0.038462\n",
       "997      998      1        18       36    0.500000\n",
       "998      999      0         3       20    0.150000\n",
       "999     1000      1        19       38    0.500000\n",
       "\n",
       "[1000 rows x 5 columns]"
      ]
     },
     "execution_count": 28,
     "metadata": {},
     "output_type": "execute_result"
    }
   ],
   "source": [
    "result"
   ]
  },
  {
   "cell_type": "code",
   "execution_count": 29,
   "metadata": {},
   "outputs": [
    {
     "data": {
      "text/plain": [
       "count    501.000000\n",
       "mean      19.129741\n",
       "std        4.426865\n",
       "min        8.000000\n",
       "25%       16.000000\n",
       "50%       19.000000\n",
       "75%       22.000000\n",
       "max       34.000000\n",
       "Name: counter, dtype: float64"
      ]
     },
     "execution_count": 29,
     "metadata": {},
     "output_type": "execute_result"
    }
   ],
   "source": [
    "# Описательная статистика для количества свайпов в контрольной группе.\n",
    "result[result.group == 0].counter.describe()"
   ]
  },
  {
   "cell_type": "code",
   "execution_count": 30,
   "metadata": {},
   "outputs": [
    {
     "data": {
      "text/plain": [
       "count    499.000000\n",
       "mean      38.965932\n",
       "std        5.499986\n",
       "min       22.000000\n",
       "25%       35.000000\n",
       "50%       39.000000\n",
       "75%       43.000000\n",
       "max       54.000000\n",
       "Name: counter, dtype: float64"
      ]
     },
     "execution_count": 30,
     "metadata": {},
     "output_type": "execute_result"
    }
   ],
   "source": [
    "# Описательная статистика для количества свайпов в тестовой группе.\n",
    "result[result.group == 1].counter.describe()"
   ]
  },
  {
   "cell_type": "markdown",
   "metadata": {},
   "source": [
    "Медиана в тестовой группе выше, чем в контрольной. Если различия признаем статистически значимыми, то новый алгоритм для поиска анкет положительно повлиял на количество свайпов для каждого пользователя, а значит сделал приложение лучше."
   ]
  },
  {
   "cell_type": "markdown",
   "metadata": {},
   "source": [
    "Посмотрим на распределение количества свайпов по нашим группам, проверим, однородны ли дисперсии в наших выборках и решим, какой статистический критерий применить."
   ]
  },
  {
   "cell_type": "code",
   "execution_count": 31,
   "metadata": {},
   "outputs": [],
   "source": [
    "# Берем показатели количества свайпов в виде одномерных массивов.\n",
    "sample_control_proxy = np.array(result[result.group == 0].counter)\n",
    "sample_test_proxy = np.array(result[result.group == 1].counter)"
   ]
  },
  {
   "cell_type": "code",
   "execution_count": 32,
   "metadata": {},
   "outputs": [
    {
     "data": {
      "image/png": "[encoded data removed]",
      "text/plain": [
       "<Figure size 864x576 with 1 Axes>"
      ]
     },
     "metadata": {},
     "output_type": "display_data"
    }
   ],
   "source": [
    "# Изобразим распределение количества свайпов в контрольной группе.\n",
    "sns.histplot(data=result[result.group == 0], x='counter', kde=True, bins = 30);\n",
    "plt.xlabel('Количество свайпов')\n",
    "plt.ylabel('Количество пользователей')\n",
    "plt.title('Распределение количества свайпов в контрольной группе.');"
   ]
  },
  {
   "cell_type": "code",
   "execution_count": 33,
   "metadata": {},
   "outputs": [
    {
     "data": {
      "text/plain": [
       "ShapiroResult(statistic=0.9900698661804199, pvalue=0.0018430245108902454)"
      ]
     },
     "execution_count": 33,
     "metadata": {},
     "output_type": "execute_result"
    }
   ],
   "source": [
    "# Проверим распределение на нормальность.\n",
    "stats.shapiro(sample_control_proxy)\n",
    "# P-value меньше 0.05 => выборка не происходит из нормального распределения."
   ]
  },
  {
   "cell_type": "code",
   "execution_count": 34,
   "metadata": {},
   "outputs": [
    {
     "data": {
      "image/png": "[encoded data removed]",
      "text/plain": [
       "<Figure size 864x576 with 1 Axes>"
      ]
     },
     "metadata": {},
     "output_type": "display_data"
    }
   ],
   "source": [
    "# Изобразим распределение количества свайпов в тестовой группе.\n",
    "sns.histplot(data=result[result.group == 1], x='counter', kde=True, bins = 30);\n",
    "plt.xlabel('Количество свайпов')\n",
    "plt.ylabel('Количество пользователей')\n",
    "plt.title('Распределение количества свайпов в тестовой группе.');"
   ]
  },
  {
   "cell_type": "code",
   "execution_count": 35,
   "metadata": {},
   "outputs": [
    {
     "data": {
      "text/plain": [
       "ShapiroResult(statistic=0.9948619604110718, pvalue=0.09494461119174957)"
      ]
     },
     "execution_count": 35,
     "metadata": {},
     "output_type": "execute_result"
    }
   ],
   "source": [
    "# Проверим распределение на нормальность.\n",
    "stats.shapiro(sample_test_proxy)\n",
    "# P-value больше 0.05 => выборка происходит из нормального распределения."
   ]
  },
  {
   "cell_type": "code",
   "execution_count": 25,
   "metadata": {},
   "outputs": [
    {
     "data": {
      "text/plain": [
       "LeveneResult(statistic=18.48241338729555, pvalue=1.8829191577883398e-05)"
      ]
     },
     "execution_count": 25,
     "metadata": {},
     "output_type": "execute_result"
    }
   ],
   "source": [
    "# Смотрим на однородность дисперсий в выборках.\n",
    "stats.levene(sample_control_proxy, sample_test_proxy)\n",
    "# P-value меньше 0.05 => отклоняем нулевую гипотезу о равенстве дисперсий."
   ]
  },
  {
   "cell_type": "markdown",
   "metadata": {},
   "source": [
    "Итого:\n",
    "<ul>\n",
    "<li>Признак в контрольной выборке распределен не нормально, признак в тестовой выборке распределен нормально.\n",
    "<li>Количество наблюдений в выборках практически равно и большое (сильно больше 30).\n",
    "<li>Дисперсии в выборках не однородны.\n",
    "<ul>"
   ]
  },
  {
   "cell_type": "markdown",
   "metadata": {},
   "source": [
    "В связи со всем вышесказанным в качестве статистического критерия воспользуемся Bootstrap и сравним медианы выборок."
   ]
  },
  {
   "cell_type": "code",
   "execution_count": 26,
   "metadata": {},
   "outputs": [
    {
     "data": {
      "text/plain": [
       "BootstrapResult(confidence_interval=ConfidenceInterval(low=18.0, high=19.0), standard_error=0.40617763451675803)"
      ]
     },
     "execution_count": 26,
     "metadata": {},
     "output_type": "execute_result"
    }
   ],
   "source": [
    "# Применяем Bootstrap к контрольной группе.\n",
    "stats.bootstrap((result[result.group == 0].counter, ), statistic = np.median, method = 'percentile')"
   ]
  },
  {
   "cell_type": "code",
   "execution_count": 27,
   "metadata": {
    "scrolled": true
   },
   "outputs": [
    {
     "data": {
      "text/plain": [
       "BootstrapResult(confidence_interval=ConfidenceInterval(low=38.0, high=40.0), standard_error=0.29759023205183477)"
      ]
     },
     "execution_count": 27,
     "metadata": {},
     "output_type": "execute_result"
    }
   ],
   "source": [
    "# Применяем Bootstrap к тестовой группе.\n",
    "stats.bootstrap((result[result.group == 1].counter, ), statistic = np.median, method = 'percentile')"
   ]
  },
  {
   "cell_type": "markdown",
   "metadata": {},
   "source": [
    "Доверительные интервалы медианных значений не пересекаются, значит отклоняем нулевую гипотезу о равенстве медианных значений количества свайпов. При этом, количество свайпов в тестовой группе по сравнению с контрольной статистически значимо увеличилось."
   ]
  },
  {
   "cell_type": "markdown",
   "metadata": {},
   "source": [
    "### Этап 4. Выводы."
   ]
  },
  {
   "cell_type": "markdown",
   "metadata": {},
   "source": [
    "Мы провели анализ данных, проверили гипотезы и выяснили, что мэтч рейт в тестовой группе статистически значимо отличается в положительную сторону от мэтч рейта в контрольной группе, что улучшает качество приложения. Так же мы выяснили, что пользователи в целом стали больше свайпать (количество свайпов в тестовой группе статистически значимо отличается в положительную сторону от количества свайпов в контрольной группе), что так же улучшает качество приложения. \n",
    "##### В связи со всем выше сказанным, в заключении я скажу, что стоит включать новую систему поиска анкет на всех пользователей, так как были найдены статистически значимые положительные различия по целевой метрике и прокси-метрике в контрольной и тестовой группах."
   ]
  },
  {
   "cell_type": "code",
   "execution_count": null,
   "metadata": {},
   "outputs": [],
   "source": []
  }
 ],
 "metadata": {
  "kernelspec": {
   "display_name": "Python 3",
   "language": "python",
   "name": "python3"
  },
  "language_info": {
   "codemirror_mode": {
    "name": "ipython",
    "version": 3
   },
   "file_extension": ".py",
   "mimetype": "text/x-python",
   "name": "python",
   "nbconvert_exporter": "python",
   "pygments_lexer": "ipython3",
   "version": "3.7.3"
  }
 },
 "nbformat": 4,
 "nbformat_minor": 4
}
